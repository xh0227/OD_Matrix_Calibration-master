{
 "cells": [
  {
   "cell_type": "code",
   "execution_count": null,
   "metadata": {},
   "outputs": [],
   "source": [
    "# Import modules.\n",
    "import pandas as pd\n",
    "import numpy as np\n",
    "from od_cal_fct.user_utill import *"
   ]
  },
  {
   "cell_type": "code",
   "execution_count": null,
   "metadata": {},
   "outputs": [],
   "source": [
    "# Total number of samples for biased OD matrices.\n",
    "nr_tot_samples = 100\n",
    "\n",
    "# Characteristics of Gaussian normal distribution. \n",
    "mu_gaus = 0\n",
    "sigma_gaus = 0.33333        # 99.7% vlaues fall into +- 1.\n",
    "\n",
    "# Factors for perturbation.\n",
    "fac_reduction = 0.7         # Reduction factor.\n",
    "fac_randomness = 0.10       # Random swing span"
   ]
  },
  {
   "cell_type": "code",
   "execution_count": null,
   "metadata": {},
   "outputs": [],
   "source": [
    "# Some common variables.\n",
    "str_path_od_true = \"data_tabular/true_od_v02.csv\"\n",
    "str_dir_od_biased = \"data_tabular/biased_od_samples\""
   ]
  },
  {
   "cell_type": "code",
   "execution_count": null,
   "metadata": {},
   "outputs": [],
   "source": [
    "# Import true OD matrix.\n",
    "df_od_true = pd.read_csv(str_path_od_true, index_col= 0)\n",
    "df_od_true"
   ]
  },
  {
   "cell_type": "code",
   "execution_count": null,
   "metadata": {},
   "outputs": [],
   "source": [
    "# Check data type.\n",
    "df_od_true.dtypes"
   ]
  },
  {
   "cell_type": "code",
   "execution_count": null,
   "metadata": {},
   "outputs": [],
   "source": [
    "delAllInDir(str_dir_od_biased)"
   ]
  },
  {
   "cell_type": "code",
   "execution_count": null,
   "metadata": {},
   "outputs": [],
   "source": [
    "# Collect necessary variables from base OD matrix.\n",
    "arr_od_true = df_od_true.values     # True OD values.\n",
    "dims_od = df_od_true.shape          # Dimension of OD matrix.\n",
    "row_index = df_od_true.index        # row index.\n",
    "col_index = df_od_true.columns      # col index.\n",
    "\n",
    "# LOOP to populate perturbed arrays.\n",
    "for idx in range(nr_tot_samples):\n",
    "    \n",
    "    # Define array with elements from Gaussian distribution.\n",
    "    arr_gaus = np.random.normal(mu_gaus, sigma_gaus, size=dims_od)\n",
    "    \n",
    "    # Define perturbating array from Gaussian elements.\n",
    "    arr_perturb = fac_reduction + (fac_randomness * arr_gaus)\n",
    "    \n",
    "    # Define perturbed array.\n",
    "    arr_tmp = arr_perturb * arr_od_true\n",
    "    arr_tmp = np.rint(arr_tmp)\n",
    "    arr_tmp = np.int64(arr_tmp)\n",
    "    \n",
    "    # Make dataframe from perturbed array.\n",
    "    df_sample = pd.DataFrame(arr_tmp, columns=col_index, index=row_index)\n",
    "    df_sample.to_csv(str_dir_od_biased+\"/od_sample_{:04d}.csv\".format(idx+1))"
   ]
  },
  {
   "cell_type": "code",
   "execution_count": null,
   "metadata": {},
   "outputs": [],
   "source": [
    "# Check one (last one from loop) biased sample dataframe.\n",
    "df_sample"
   ]
  },
  {
   "cell_type": "code",
   "execution_count": null,
   "metadata": {},
   "outputs": [],
   "source": [
    "# Roughly check ratio to true od matrix.\n",
    "df_sample/df_od_true"
   ]
  },
  {
   "cell_type": "code",
   "execution_count": null,
   "metadata": {},
   "outputs": [],
   "source": [
    "# Max ratio?\n",
    "(df_sample/df_od_true).max().max()"
   ]
  },
  {
   "cell_type": "code",
   "execution_count": null,
   "metadata": {},
   "outputs": [],
   "source": [
    "# Min ratio?\n",
    "(df_sample/df_od_true).min().min()"
   ]
  }
 ],
 "metadata": {
  "kernelspec": {
   "display_name": "Python 3.9.12 ('base')",
   "language": "python",
   "name": "python3"
  },
  "language_info": {
   "codemirror_mode": {
    "name": "ipython",
    "version": 3
   },
   "file_extension": ".py",
   "mimetype": "text/x-python",
   "name": "python",
   "nbconvert_exporter": "python",
   "pygments_lexer": "ipython3",
   "version": "3.9.12"
  },
  "orig_nbformat": 4,
  "vscode": {
   "interpreter": {
    "hash": "ad2bdc8ecc057115af97d19610ffacc2b4e99fae6737bb82f5d7fb13d2f2c186"
   }
  }
 },
 "nbformat": 4,
 "nbformat_minor": 2
}
